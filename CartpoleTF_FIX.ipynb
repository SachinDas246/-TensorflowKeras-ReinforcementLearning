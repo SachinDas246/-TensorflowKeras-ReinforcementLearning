{
 "cells": [
  {
   "cell_type": "markdown",
   "id": "4561e4fb",
   "metadata": {},
   "source": [
    "import libs"
   ]
  },
  {
   "cell_type": "code",
   "execution_count": 10,
   "id": "7e5109cf",
   "metadata": {},
   "outputs": [],
   "source": [
    "import numpy as np\n",
    "import gym\n",
    "\n",
    "from keras.models import Sequential\n",
    "from keras.layers import Dense, Activation, Flatten\n",
    "from keras.optimizers import Adam\n",
    "\n",
    "from rl.agents.dqn import DQNAgent\n",
    "from rl.policy import BoltzmannQPolicy\n",
    "from rl.memory import SequentialMemory"
   ]
  },
  {
   "cell_type": "markdown",
   "id": "59cdde65",
   "metadata": {},
   "source": [
    " Get the environment and extract the number of actions"
   ]
  },
  {
   "cell_type": "code",
   "execution_count": 11,
   "id": "842fd3d7",
   "metadata": {},
   "outputs": [],
   "source": [
    "ENV_NAME = 'CartPole-v0'\n",
    "env = gym.make(ENV_NAME)\n",
    "np.random.seed(123)\n",
    "env.seed(123)\n",
    "actions = env.action_space.n\n",
    "states = env.observation_space.shape"
   ]
  },
  {
   "cell_type": "markdown",
   "id": "d493e78b",
   "metadata": {},
   "source": [
    "Build Model:"
   ]
  },
  {
   "cell_type": "code",
   "execution_count": 12,
   "id": "24659eae",
   "metadata": {},
   "outputs": [],
   "source": [
    "def build_model(states, actions):    \n",
    "    model = Sequential()\n",
    "    model.add(Flatten(input_shape=(1,) + states ))\n",
    "    model.add(Dense(16))\n",
    "    model.add(Activation('relu'))\n",
    "    model.add(Dense(16))\n",
    "    model.add(Activation('relu'))\n",
    "    model.add(Dense(16))\n",
    "    model.add(Activation('relu'))\n",
    "    model.add(Dense(nb_actions))\n",
    "    model.add(Activation('linear'))    \n",
    "    return model"
   ]
  },
  {
   "cell_type": "code",
   "execution_count": 13,
   "id": "b7df93b8",
   "metadata": {},
   "outputs": [],
   "source": [
    "model = build_model(states, actions)"
   ]
  },
  {
   "cell_type": "code",
   "execution_count": 14,
   "id": "80d40d06",
   "metadata": {},
   "outputs": [
    {
     "name": "stdout",
     "output_type": "stream",
     "text": [
      "Model: \"sequential_1\"\n",
      "_________________________________________________________________\n",
      "Layer (type)                 Output Shape              Param #   \n",
      "=================================================================\n",
      "flatten (Flatten)            (None, 4)                 0         \n",
      "_________________________________________________________________\n",
      "dense (Dense)                (None, 16)                80        \n",
      "_________________________________________________________________\n",
      "activation (Activation)      (None, 16)                0         \n",
      "_________________________________________________________________\n",
      "dense_1 (Dense)              (None, 16)                272       \n",
      "_________________________________________________________________\n",
      "activation_1 (Activation)    (None, 16)                0         \n",
      "_________________________________________________________________\n",
      "dense_2 (Dense)              (None, 16)                272       \n",
      "_________________________________________________________________\n",
      "activation_2 (Activation)    (None, 16)                0         \n",
      "_________________________________________________________________\n",
      "dense_3 (Dense)              (None, 2)                 34        \n",
      "_________________________________________________________________\n",
      "activation_3 (Activation)    (None, 2)                 0         \n",
      "=================================================================\n",
      "Total params: 658\n",
      "Trainable params: 658\n",
      "Non-trainable params: 0\n",
      "_________________________________________________________________\n"
     ]
    }
   ],
   "source": [
    "model.summary()"
   ]
  },
  {
   "cell_type": "markdown",
   "id": "830aab92",
   "metadata": {},
   "source": [
    "3. Build Agent with Keras-RL"
   ]
  },
  {
   "cell_type": "code",
   "execution_count": 15,
   "id": "94dd4d23",
   "metadata": {},
   "outputs": [],
   "source": [
    "def build_agent(model, actions):\n",
    "    policy = BoltzmannQPolicy()\n",
    "    memory = SequentialMemory(limit=50000, window_length=1)\n",
    "    dqn = DQNAgent(model=model, nb_actions=nb_actions, memory=memory, nb_steps_warmup=10,target_model_update=1e-2, policy=policy)\n",
    "    return dqn"
   ]
  },
  {
   "cell_type": "code",
   "execution_count": 16,
   "id": "76c62c49",
   "metadata": {},
   "outputs": [
    {
     "name": "stdout",
     "output_type": "stream",
     "text": [
      "Training for 50000 steps ...\n",
      "WARNING:tensorflow:From c:\\users\\deepspace\\envs\\tars\\lib\\site-packages\\tensorflow\\python\\keras\\engine\\training_v1.py:2070: Model.state_updates (from tensorflow.python.keras.engine.training) is deprecated and will be removed in a future version.\n",
      "Instructions for updating:\n",
      "This property should not be used in TensorFlow 2.0, as updates are applied automatically.\n"
     ]
    },
    {
     "name": "stderr",
     "output_type": "stream",
     "text": [
      "c:\\users\\deepspace\\envs\\tars\\lib\\site-packages\\rl\\memory.py:40: UserWarning: Not enough entries to sample without replacement. Consider increasing your warm-up phase to avoid oversampling!\n",
      "  warnings.warn('Not enough entries to sample without replacement. Consider increasing your warm-up phase to avoid oversampling!')\n"
     ]
    },
    {
     "name": "stdout",
     "output_type": "stream",
     "text": [
      "    26/50000: episode: 1, duration: 4.304s, episode steps:  26, steps per second:   6, episode reward: 26.000, mean reward:  1.000 [ 1.000,  1.000], mean action: 0.538 [0.000, 1.000],  loss: 0.486464, mae: 0.507361, mean_q: 0.041565\n"
     ]
    },
    {
     "name": "stderr",
     "output_type": "stream",
     "text": [
      "c:\\users\\deepspace\\envs\\tars\\lib\\site-packages\\rl\\memory.py:40: UserWarning: Not enough entries to sample without replacement. Consider increasing your warm-up phase to avoid oversampling!\n",
      "  warnings.warn('Not enough entries to sample without replacement. Consider increasing your warm-up phase to avoid oversampling!')\n"
     ]
    },
    {
     "name": "stdout",
     "output_type": "stream",
     "text": [
      "    60/50000: episode: 2, duration: 0.586s, episode steps:  34, steps per second:  58, episode reward: 34.000, mean reward:  1.000 [ 1.000,  1.000], mean action: 0.618 [0.000, 1.000],  loss: 0.396831, mae: 0.518492, mean_q: 0.193391\n",
      "    81/50000: episode: 3, duration: 0.377s, episode steps:  21, steps per second:  56, episode reward: 21.000, mean reward:  1.000 [ 1.000,  1.000], mean action: 0.524 [0.000, 1.000],  loss: 0.208337, mae: 0.543042, mean_q: 0.530704\n",
      "    96/50000: episode: 4, duration: 0.281s, episode steps:  15, steps per second:  53, episode reward: 15.000, mean reward:  1.000 [ 1.000,  1.000], mean action: 0.400 [0.000, 1.000],  loss: 0.070763, mae: 0.593960, mean_q: 0.929581\n",
      "   105/50000: episode: 5, duration: 0.165s, episode steps:   9, steps per second:  55, episode reward:  9.000, mean reward:  1.000 [ 1.000,  1.000], mean action: 0.778 [0.000, 1.000],  loss: 0.036352, mae: 0.677024, mean_q: 1.199300\n",
      "   124/50000: episode: 6, duration: 0.399s, episode steps:  19, steps per second:  48, episode reward: 19.000, mean reward:  1.000 [ 1.000,  1.000], mean action: 0.684 [0.000, 1.000],  loss: 0.030637, mae: 0.713291, mean_q: 1.253857\n",
      "   146/50000: episode: 7, duration: 0.382s, episode steps:  22, steps per second:  58, episode reward: 22.000, mean reward:  1.000 [ 1.000,  1.000], mean action: 0.636 [0.000, 1.000],  loss: 0.026378, mae: 0.746677, mean_q: 1.357499\n",
      "   164/50000: episode: 8, duration: 0.316s, episode steps:  18, steps per second:  57, episode reward: 18.000, mean reward:  1.000 [ 1.000,  1.000], mean action: 0.278 [0.000, 1.000],  loss: 0.017080, mae: 0.802230, mean_q: 1.562290\n",
      "   197/50000: episode: 9, duration: 0.565s, episode steps:  33, steps per second:  58, episode reward: 33.000, mean reward:  1.000 [ 1.000,  1.000], mean action: 0.667 [0.000, 1.000],  loss: 0.020818, mae: 0.877847, mean_q: 1.750288\n",
      "   207/50000: episode: 10, duration: 0.182s, episode steps:  10, steps per second:  55, episode reward: 10.000, mean reward:  1.000 [ 1.000,  1.000], mean action: 0.200 [0.000, 1.000],  loss: 0.018468, mae: 0.948659, mean_q: 1.920684\n",
      "   223/50000: episode: 11, duration: 0.283s, episode steps:  16, steps per second:  57, episode reward: 16.000, mean reward:  1.000 [ 1.000,  1.000], mean action: 0.438 [0.000, 1.000],  loss: 0.021096, mae: 1.004997, mean_q: 2.042167\n",
      "   240/50000: episode: 12, duration: 0.316s, episode steps:  17, steps per second:  54, episode reward: 17.000, mean reward:  1.000 [ 1.000,  1.000], mean action: 0.706 [0.000, 1.000],  loss: 0.036276, mae: 1.066489, mean_q: 2.139395\n",
      "   258/50000: episode: 13, duration: 0.332s, episode steps:  18, steps per second:  54, episode reward: 18.000, mean reward:  1.000 [ 1.000,  1.000], mean action: 0.333 [0.000, 1.000],  loss: 0.043478, mae: 1.146268, mean_q: 2.281089\n",
      "   276/50000: episode: 14, duration: 0.339s, episode steps:  18, steps per second:  53, episode reward: 18.000, mean reward:  1.000 [ 1.000,  1.000], mean action: 0.389 [0.000, 1.000],  loss: 0.041277, mae: 1.236918, mean_q: 2.471737\n",
      "   293/50000: episode: 15, duration: 0.292s, episode steps:  17, steps per second:  58, episode reward: 17.000, mean reward:  1.000 [ 1.000,  1.000], mean action: 0.588 [0.000, 1.000],  loss: 0.067014, mae: 1.308264, mean_q: 2.568168\n",
      "   303/50000: episode: 16, duration: 0.182s, episode steps:  10, steps per second:  55, episode reward: 10.000, mean reward:  1.000 [ 1.000,  1.000], mean action: 0.300 [0.000, 1.000],  loss: 0.063458, mae: 1.366258, mean_q: 2.714617\n",
      "   323/50000: episode: 17, duration: 0.349s, episode steps:  20, steps per second:  57, episode reward: 20.000, mean reward:  1.000 [ 1.000,  1.000], mean action: 0.400 [0.000, 1.000],  loss: 0.075829, mae: 1.440315, mean_q: 2.820437\n",
      "   338/50000: episode: 18, duration: 0.266s, episode steps:  15, steps per second:  56, episode reward: 15.000, mean reward:  1.000 [ 1.000,  1.000], mean action: 0.267 [0.000, 1.000],  loss: 0.092415, mae: 1.504077, mean_q: 2.938150\n",
      "   357/50000: episode: 19, duration: 0.350s, episode steps:  19, steps per second:  54, episode reward: 19.000, mean reward:  1.000 [ 1.000,  1.000], mean action: 0.579 [0.000, 1.000],  loss: 0.102430, mae: 1.577348, mean_q: 3.049254\n",
      "   380/50000: episode: 20, duration: 0.414s, episode steps:  23, steps per second:  56, episode reward: 23.000, mean reward:  1.000 [ 1.000,  1.000], mean action: 0.435 [0.000, 1.000],  loss: 0.111716, mae: 1.661363, mean_q: 3.171034\n",
      "   415/50000: episode: 21, duration: 0.599s, episode steps:  35, steps per second:  58, episode reward: 35.000, mean reward:  1.000 [ 1.000,  1.000], mean action: 0.600 [0.000, 1.000],  loss: 0.092944, mae: 1.781342, mean_q: 3.471052\n",
      "   432/50000: episode: 22, duration: 0.302s, episode steps:  17, steps per second:  56, episode reward: 17.000, mean reward:  1.000 [ 1.000,  1.000], mean action: 0.353 [0.000, 1.000],  loss: 0.072200, mae: 1.879082, mean_q: 3.684322\n",
      "   440/50000: episode: 23, duration: 0.146s, episode steps:   8, steps per second:  55, episode reward:  8.000, mean reward:  1.000 [ 1.000,  1.000], mean action: 0.125 [0.000, 1.000],  loss: 0.133206, mae: 1.942175, mean_q: 3.739164\n",
      "   455/50000: episode: 24, duration: 0.267s, episode steps:  15, steps per second:  56, episode reward: 15.000, mean reward:  1.000 [ 1.000,  1.000], mean action: 0.667 [0.000, 1.000],  loss: 0.177260, mae: 1.983516, mean_q: 3.808410\n",
      "   482/50000: episode: 25, duration: 0.465s, episode steps:  27, steps per second:  58, episode reward: 27.000, mean reward:  1.000 [ 1.000,  1.000], mean action: 0.444 [0.000, 1.000],  loss: 0.158993, mae: 2.095140, mean_q: 4.006783\n",
      "   516/50000: episode: 26, duration: 0.582s, episode steps:  34, steps per second:  58, episode reward: 34.000, mean reward:  1.000 [ 1.000,  1.000], mean action: 0.559 [0.000, 1.000],  loss: 0.175878, mae: 2.210585, mean_q: 4.219518\n",
      "   527/50000: episode: 27, duration: 0.199s, episode steps:  11, steps per second:  55, episode reward: 11.000, mean reward:  1.000 [ 1.000,  1.000], mean action: 0.364 [0.000, 1.000],  loss: 0.139073, mae: 2.308572, mean_q: 4.455964\n",
      "   553/50000: episode: 28, duration: 0.449s, episode steps:  26, steps per second:  58, episode reward: 26.000, mean reward:  1.000 [ 1.000,  1.000], mean action: 0.423 [0.000, 1.000],  loss: 0.152607, mae: 2.364770, mean_q: 4.509073\n",
      "   568/50000: episode: 29, duration: 0.266s, episode steps:  15, steps per second:  56, episode reward: 15.000, mean reward:  1.000 [ 1.000,  1.000], mean action: 0.200 [0.000, 1.000],  loss: 0.231819, mae: 2.452607, mean_q: 4.566673\n",
      "   627/50000: episode: 30, duration: 0.999s, episode steps:  59, steps per second:  59, episode reward: 59.000, mean reward:  1.000 [ 1.000,  1.000], mean action: 0.542 [0.000, 1.000],  loss: 0.166274, mae: 2.609694, mean_q: 4.980116\n",
      "   648/50000: episode: 31, duration: 0.366s, episode steps:  21, steps per second:  57, episode reward: 21.000, mean reward:  1.000 [ 1.000,  1.000], mean action: 0.476 [0.000, 1.000],  loss: 0.214982, mae: 2.791506, mean_q: 5.325314\n",
      "   668/50000: episode: 32, duration: 0.349s, episode steps:  20, steps per second:  57, episode reward: 20.000, mean reward:  1.000 [ 1.000,  1.000], mean action: 0.450 [0.000, 1.000],  loss: 0.218919, mae: 2.825970, mean_q: 5.372478\n",
      "   686/50000: episode: 33, duration: 0.316s, episode steps:  18, steps per second:  57, episode reward: 18.000, mean reward:  1.000 [ 1.000,  1.000], mean action: 0.389 [0.000, 1.000],  loss: 0.289267, mae: 2.905381, mean_q: 5.495701\n",
      "   715/50000: episode: 34, duration: 0.498s, episode steps:  29, steps per second:  58, episode reward: 29.000, mean reward:  1.000 [ 1.000,  1.000], mean action: 0.414 [0.000, 1.000],  loss: 0.203609, mae: 2.981952, mean_q: 5.698195\n",
      "   743/50000: episode: 35, duration: 0.482s, episode steps:  28, steps per second:  58, episode reward: 28.000, mean reward:  1.000 [ 1.000,  1.000], mean action: 0.571 [0.000, 1.000],  loss: 0.258012, mae: 3.105636, mean_q: 5.925454\n",
      "   767/50000: episode: 36, duration: 0.415s, episode steps:  24, steps per second:  58, episode reward: 24.000, mean reward:  1.000 [ 1.000,  1.000], mean action: 0.375 [0.000, 1.000],  loss: 0.236559, mae: 3.175759, mean_q: 6.084672\n",
      "   924/50000: episode: 37, duration: 2.632s, episode steps: 157, steps per second:  60, episode reward: 157.000, mean reward:  1.000 [ 1.000,  1.000], mean action: 0.516 [0.000, 1.000],  loss: 0.290797, mae: 3.552297, mean_q: 6.865512\n"
     ]
    },
    {
     "name": "stdout",
     "output_type": "stream",
     "text": [
      "   946/50000: episode: 38, duration: 0.398s, episode steps:  22, steps per second:  55, episode reward: 22.000, mean reward:  1.000 [ 1.000,  1.000], mean action: 0.455 [0.000, 1.000],  loss: 0.261560, mae: 3.901909, mean_q: 7.628721\n",
      "   978/50000: episode: 39, duration: 0.549s, episode steps:  32, steps per second:  58, episode reward: 32.000, mean reward:  1.000 [ 1.000,  1.000], mean action: 0.438 [0.000, 1.000],  loss: 0.383572, mae: 4.020854, mean_q: 7.800976\n",
      "   990/50000: episode: 40, duration: 0.219s, episode steps:  12, steps per second:  55, episode reward: 12.000, mean reward:  1.000 [ 1.000,  1.000], mean action: 0.333 [0.000, 1.000],  loss: 0.424010, mae: 4.096199, mean_q: 7.993654\n",
      "  1015/50000: episode: 41, duration: 0.429s, episode steps:  25, steps per second:  58, episode reward: 25.000, mean reward:  1.000 [ 1.000,  1.000], mean action: 0.560 [0.000, 1.000],  loss: 0.310871, mae: 4.192039, mean_q: 8.175874\n",
      "  1046/50000: episode: 42, duration: 0.535s, episode steps:  31, steps per second:  58, episode reward: 31.000, mean reward:  1.000 [ 1.000,  1.000], mean action: 0.452 [0.000, 1.000],  loss: 0.320683, mae: 4.233854, mean_q: 8.275071\n",
      "  1072/50000: episode: 43, duration: 0.447s, episode steps:  26, steps per second:  58, episode reward: 26.000, mean reward:  1.000 [ 1.000,  1.000], mean action: 0.538 [0.000, 1.000],  loss: 0.380893, mae: 4.330572, mean_q: 8.468303\n",
      "  1159/50000: episode: 44, duration: 1.465s, episode steps:  87, steps per second:  59, episode reward: 87.000, mean reward:  1.000 [ 1.000,  1.000], mean action: 0.471 [0.000, 1.000],  loss: 0.372511, mae: 4.557021, mean_q: 8.958038\n",
      "  1210/50000: episode: 45, duration: 0.883s, episode steps:  51, steps per second:  58, episode reward: 51.000, mean reward:  1.000 [ 1.000,  1.000], mean action: 0.510 [0.000, 1.000],  loss: 0.359683, mae: 4.779908, mean_q: 9.469676\n",
      "  1240/50000: episode: 46, duration: 0.532s, episode steps:  30, steps per second:  56, episode reward: 30.000, mean reward:  1.000 [ 1.000,  1.000], mean action: 0.467 [0.000, 1.000],  loss: 0.365271, mae: 5.038754, mean_q: 10.005363\n",
      "  1295/50000: episode: 47, duration: 0.932s, episode steps:  55, steps per second:  59, episode reward: 55.000, mean reward:  1.000 [ 1.000,  1.000], mean action: 0.600 [0.000, 1.000],  loss: 0.340072, mae: 5.129627, mean_q: 10.254796\n",
      "  1364/50000: episode: 48, duration: 1.167s, episode steps:  69, steps per second:  59, episode reward: 69.000, mean reward:  1.000 [ 1.000,  1.000], mean action: 0.522 [0.000, 1.000],  loss: 0.431091, mae: 5.398259, mean_q: 10.785861\n",
      "  1477/50000: episode: 49, duration: 2.031s, episode steps: 113, steps per second:  56, episode reward: 113.000, mean reward:  1.000 [ 1.000,  1.000], mean action: 0.531 [0.000, 1.000],  loss: 0.410038, mae: 5.840515, mean_q: 11.692128\n",
      "  1570/50000: episode: 50, duration: 1.566s, episode steps:  93, steps per second:  59, episode reward: 93.000, mean reward:  1.000 [ 1.000,  1.000], mean action: 0.516 [0.000, 1.000],  loss: 0.469435, mae: 6.286001, mean_q: 12.657544\n",
      "  1714/50000: episode: 51, duration: 2.447s, episode steps: 144, steps per second:  59, episode reward: 144.000, mean reward:  1.000 [ 1.000,  1.000], mean action: 0.472 [0.000, 1.000],  loss: 0.530707, mae: 6.800405, mean_q: 13.731986\n",
      "  1867/50000: episode: 52, duration: 2.566s, episode steps: 153, steps per second:  60, episode reward: 153.000, mean reward:  1.000 [ 1.000,  1.000], mean action: 0.477 [0.000, 1.000],  loss: 0.647312, mae: 7.389259, mean_q: 14.949088\n",
      "  2043/50000: episode: 53, duration: 2.948s, episode steps: 176, steps per second:  60, episode reward: 176.000, mean reward:  1.000 [ 1.000,  1.000], mean action: 0.477 [0.000, 1.000],  loss: 0.647256, mae: 8.180118, mean_q: 16.575136\n",
      "  2234/50000: episode: 54, duration: 3.197s, episode steps: 191, steps per second:  60, episode reward: 191.000, mean reward:  1.000 [ 1.000,  1.000], mean action: 0.482 [0.000, 1.000],  loss: 0.680887, mae: 8.994452, mean_q: 18.208504\n",
      "  2408/50000: episode: 55, duration: 2.933s, episode steps: 174, steps per second:  59, episode reward: 174.000, mean reward:  1.000 [ 1.000,  1.000], mean action: 0.477 [0.000, 1.000],  loss: 0.860433, mae: 9.792221, mean_q: 19.873684\n",
      "  2608/50000: episode: 56, duration: 3.395s, episode steps: 200, steps per second:  59, episode reward: 200.000, mean reward:  1.000 [ 1.000,  1.000], mean action: 0.485 [0.000, 1.000],  loss: 1.020497, mae: 10.653037, mean_q: 21.582256\n",
      "  2808/50000: episode: 57, duration: 3.382s, episode steps: 200, steps per second:  59, episode reward: 200.000, mean reward:  1.000 [ 1.000,  1.000], mean action: 0.510 [0.000, 1.000],  loss: 1.043216, mae: 11.542948, mean_q: 23.428289\n",
      "  2962/50000: episode: 58, duration: 2.615s, episode steps: 154, steps per second:  59, episode reward: 154.000, mean reward:  1.000 [ 1.000,  1.000], mean action: 0.474 [0.000, 1.000],  loss: 1.474901, mae: 12.359161, mean_q: 25.009409\n",
      "done, took 55.035 seconds\n"
     ]
    },
    {
     "data": {
      "text/plain": [
       "<tensorflow.python.keras.callbacks.History at 0x29f127510a0>"
      ]
     },
     "execution_count": 16,
     "metadata": {},
     "output_type": "execute_result"
    }
   ],
   "source": [
    "dqn = build_agent(model, actions)\n",
    "dqn.compile(Adam(lr=1e-3), metrics=['mae'])\n",
    "dqn.fit(env, nb_steps=50000, visualize=True, verbose=2)\n",
    "env.close()"
   ]
  },
  {
   "cell_type": "code",
   "execution_count": null,
   "id": "4077d591",
   "metadata": {},
   "outputs": [],
   "source": []
  }
 ],
 "metadata": {
  "kernelspec": {
   "display_name": "Python 3",
   "language": "python",
   "name": "python3"
  },
  "language_info": {
   "codemirror_mode": {
    "name": "ipython",
    "version": 3
   },
   "file_extension": ".py",
   "mimetype": "text/x-python",
   "name": "python",
   "nbconvert_exporter": "python",
   "pygments_lexer": "ipython3",
   "version": "3.8.6"
  }
 },
 "nbformat": 4,
 "nbformat_minor": 5
}
